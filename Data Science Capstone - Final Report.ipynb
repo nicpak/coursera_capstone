{
    "nbformat_minor": 1, 
    "cells": [
        {
            "source": "# Introduction / Business Problem", 
            "cell_type": "markdown", 
            "metadata": {
                "collapsed": true
            }
        }, 
        {
            "source": "For families and individuals considering relocation to an unfamiliar large city, it can be overwhelming to know where to start looking for a neighborhood that will fit their preferences and needs at that time in their lives.  Young, single individuals may prefer to stay closer to areas with more nightlife, while families may gravitate to areas that have less nightlife but more parks and other outdoor recreation.  \n\nA recommendation engine assessing the various neighborhoods within a metropolitan area would assist potential movers with little-to-no familiarity with their future city in quickly locating neighborhoods that would be the most likely fit for them.  For this application, a set of personas with assumptions regarding their preferences will be formed, and the recommendations will be formed for the personas.  \n\nA recommendation engine like this could additionally be utilized by realtors in helping to identify key preferences and priorities of their clients, and identify neighborhoods in which they are more likely to buy.", 
            "cell_type": "markdown", 
            "metadata": {}
        }, 
        {
            "source": "# Data Plan", 
            "cell_type": "markdown", 
            "metadata": {}
        }, 
        {
            "source": "###  Data Background\n\nIn the case of this neighborhood recommendation engine, we will use the categories of venues that can be found by Foursquare API's to approximate the overall feel of the neighborhood.  However, studies have shown that having too many options can result in analysis paralysis and frustration, and the number of potential venue categories within Foursquare is not small.  In order to prevent overwhelming potential users, we will keep the number of input options to a relatively small number by leveraging the hierarchical structure of the Venue Category List. Specifically, we will identify the top-level categories available in this hierarchy and compare neighbohoods using a combination of the top-level categories and preferences of our user personas to generate a recommendation.   \n\nThe top level categories include:\n- Arts & Entertainment\n- College & University\n- Event\n- Food\n- Nightlife Spot\n- Outdoors & Recreation\n- Professional & Other Places\n- Residence\n- Shop & Service\n- Travel & Transport\n", 
            "cell_type": "markdown", 
            "metadata": {}
        }, 
        {
            "source": "### Data Needs\n\nThe following are our high-level data needs for this analysis:\n- A list of neighborhoods with geographical coordinates (latitude and longitude)\n- A list of Foursquare venue categories plus the top level category for each\n- A list of venues for each neighborhood with category assigned.", 
            "cell_type": "markdown", 
            "metadata": {}
        }, 
        {
            "source": "### Data Sources\n\nThe following data sources will be used to conduct this analysis:\n- [List of Toronto Postal Codes](https://en.wikipedia.org/wiki/List_of_postal_codes_of_Canada:_M) - includes Postcode, Borough, Neighborhood\n- [Toronto Postal Codes with Latitude and Longitude](https://cocl.us/Geospatial_data)\n- [Foursquare Venues / Explore API](https://developer.foursquare.com/docs/api/venues/explore) - to retrieve venues located within a certain distance of the center of the neighborhood\n- [Foursquare Venue Category Hierarchy](https://developer.foursquare.com/docs/resources/categories) - the foursquare category list / hierarchy will be retrieved and processed to identify the top-level category for each venue", 
            "cell_type": "markdown", 
            "metadata": {}
        }, 
        {
            "source": "### Data Wrangling\n\nThe following steps will be conducted to get the data ready for analysis\n- Form a list of neighborhood names with latitude and longitude by combining the list of Neighborhoods with Postal Codes with the list of Postal Codes with latitude and longitude\n- Copy the category hierarchy into excel and manipulate to identify the top-level category for each lower-level category.  Save as CSV and upload to Watson\n- Retrieve all of the venues within a certain radius of each neighborhood's latitude and longitude coordinates\n- Iterate through the venues to assign the top-level category to each venue", 
            "cell_type": "markdown", 
            "metadata": {}
        }, 
        {
            "source": "### Planned Data Analysis\n\nOnce the data has been collected, various assessments will be conducted to generate relative profiles of the neighborhoods, including the following.  \n\n- which neighbhoods have the highest / lowest density of venues\n- which neighborhoods have the most / least of each high-level category\n\nThese will then compared to the user's preferences to form a set of recommendations for each persona.  ", 
            "cell_type": "markdown", 
            "metadata": {}
        }, 
        {
            "source": "# Methodology", 
            "cell_type": "markdown", 
            "metadata": {}
        }, 
        {
            "source": "Once the data has been assembled into a dataframe consisting of the neighborhood venues, one-hot encoding is applied using the Top-Level Category column, and then grouped by to enable k-means clustering.  \n\nThe resulting data sets were then reviewed for emerging themes through which personas were identified and applied to the data set.  \n\n", 
            "cell_type": "markdown", 
            "metadata": {}
        }, 
        {
            "source": "# Results", 
            "cell_type": "markdown", 
            "metadata": {}
        }, 
        {
            "source": "Through experimentation, a k-means cluster number of 3 was found to render a meaningful grouping of neighborhoods.  Higher numbers tended to split the data set into groupings that had less obvious themes.  The clusters \n\nWhile the inclusion of the number of venues did not seem to materially impact the composition of the clusters, it did help with identifying the Personas for each cluster.   ", 
            "cell_type": "markdown", 
            "metadata": {}
        }, 
        {
            "source": "# Discussion & Conclusion", 
            "cell_type": "markdown", 
            "metadata": {}
        }, 
        {
            "source": "Candidly, even utilizing the higher level category information did not seem to provide a clear and consistent view into neighborhood make-ups.  This analysis would be made further useful by the ", 
            "cell_type": "markdown", 
            "metadata": {}
        }, 
        {
            "source": "", 
            "cell_type": "markdown", 
            "metadata": {}
        }
    ], 
    "metadata": {
        "kernelspec": {
            "display_name": "Python 3.6", 
            "name": "python3", 
            "language": "python"
        }, 
        "language_info": {
            "mimetype": "text/x-python", 
            "nbconvert_exporter": "python", 
            "version": "3.6.8", 
            "name": "python", 
            "file_extension": ".py", 
            "pygments_lexer": "ipython3", 
            "codemirror_mode": {
                "version": 3, 
                "name": "ipython"
            }
        }
    }, 
    "nbformat": 4
}